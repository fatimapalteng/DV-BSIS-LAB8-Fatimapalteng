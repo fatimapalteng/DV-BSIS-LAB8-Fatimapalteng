{
  "nbformat": 4,
  "nbformat_minor": 0,
  "metadata": {
    "colab": {
      "provenance": [],
      "authorship_tag": "ABX9TyO9yS4isdZyj3BSo77Np+sO",
      "include_colab_link": true
    },
    "kernelspec": {
      "name": "python3",
      "display_name": "Python 3"
    },
    "language_info": {
      "name": "python"
    }
  },
  "cells": [
    {
      "cell_type": "markdown",
      "metadata": {
        "id": "view-in-github",
        "colab_type": "text"
      },
      "source": [
        "<a href=\"https://colab.research.google.com/github/fatimapalteng/DV-BSIS-LAB8-Fatimapalteng/blob/main/lab8.ipynb\" target=\"_parent\"><img src=\"https://colab.research.google.com/assets/colab-badge.svg\" alt=\"Open In Colab\"/></a>"
      ]
    },
    {
      "cell_type": "code",
      "execution_count": 1,
      "metadata": {
        "colab": {
          "base_uri": "https://localhost:8080/"
        },
        "id": "1k2kzZS6Gl7N",
        "outputId": "ba3bae30-a81b-476f-bc34-77359a27ae2f"
      },
      "outputs": [
        {
          "output_type": "stream",
          "name": "stdout",
          "text": [
            "F\n",
            "a\n",
            "t\n",
            "i\n",
            "m\n",
            "a\n",
            "0\n",
            "1\n",
            "2\n",
            "3\n",
            "4\n",
            "5\n",
            "6\n",
            "7\n",
            "8\n",
            "9\n",
            "10\n",
            "11\n",
            "12\n",
            "13\n",
            "14\n",
            "0\n",
            "1\n",
            "2\n",
            "3\n",
            "4\n",
            "5\n",
            "6\n",
            "7\n",
            "8\n",
            "9\n",
            "10\n",
            "11\n",
            "12\n",
            "13\n",
            "14\n",
            "Finally finished!\n",
            "cherry\n",
            "dragon fruit\n",
            "guava\n",
            "Python\n",
            "Excel\n",
            "Rapid Miner\n",
            "R\n"
          ]
        }
      ],
      "source": [
        "\n",
        "myName=\"Fatima\"\n",
        "for x in myName:\n",
        "  print(x)\n",
        "Range=(15)\n",
        "for x in range(15):\n",
        "   print(x)\n",
        "\n",
        "Range=(15)\n",
        "for x in range(15):\n",
        "   print(x)\n",
        "else:\n",
        "   print(\"Finally finished!\")\n",
        "\n",
        "thislist=[\"cherry\",\"dragon fruit\",\"guava\"]\n",
        "for x in thislist:\n",
        "  print(x)\n",
        "\n",
        "dataAnalyticsTools=['Python','Excel','Rapid Miner','R']\n",
        "for i in range(len(dataAnalyticsTools)):\n",
        "  print(dataAnalyticsTools[i])"
      ]
    }
  ]
}